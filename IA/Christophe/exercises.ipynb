{
 "cells": [
  {
   "cell_type": "code",
   "execution_count": 1,
   "metadata": {},
   "outputs": [],
   "source": [
    "#dff = data frame features (data frame sans les étiquettes de classes)\n",
    "#classes = étiquettes de classes\n",
    "\n",
    "#Il suffit de reprendre les commandes des autres scripts pour récupérér dff et classes\n",
    "\n",
    "#train_test_split(dtt,classes, train_size = 0.66) #option random_state pour insérer une graine au générateur aléatoire \n",
    "#(pour obtenir le même résultat sur un autre run)\n",
    "\n",
    "#Découpe dtt et classes en 2 de façon à faire une partie apprentissage et une partie test\n",
    "#Renvoie 4 choses \n",
    "#Training \n",
    "#Classes \n",
    "#X_train, X_test, Y_train, Y_test"
   ]
  },
  {
   "cell_type": "code",
   "execution_count": null,
   "metadata": {},
   "outputs": [],
   "source": [
    "#from sklearn.model_selection import train_test_split"
   ]
  },
  {
   "cell_type": "code",
   "execution_count": null,
   "metadata": {},
   "outputs": [],
   "source": [
    "#model = tree.DecisionTreeClassifier(criterion = 'entropy')\n",
    "#                                                    'gini'\n",
    "#model.fit(X_train, y_train)\n",
    "#y_predict = model.predict(X_test)"
   ]
  },
  {
   "cell_type": "code",
   "execution_count": null,
   "metadata": {},
   "outputs": [],
   "source": [
    "#print(metrics.accuracy_score(y_testy_predict))"
   ]
  },
  {
   "cell_type": "code",
   "execution_count": null,
   "metadata": {},
   "outputs": [],
   "source": [
    "#print(metrics.classification.report(y_test, y_predict))"
   ]
  },
  {
   "cell_type": "code",
   "execution_count": null,
   "metadata": {},
   "outputs": [],
   "source": [
    "#Certaines etapes sont aléatoires, on n'a pas forcément le meme résultat"
   ]
  }
 ],
 "metadata": {
  "kernelspec": {
   "display_name": "Python 2",
   "language": "python",
   "name": "python2"
  },
  "language_info": {
   "codemirror_mode": {
    "name": "ipython",
    "version": 2
   },
   "file_extension": ".py",
   "mimetype": "text/x-python",
   "name": "python",
   "nbconvert_exporter": "python",
   "pygments_lexer": "ipython2",
   "version": "2.7.15"
  }
 },
 "nbformat": 4,
 "nbformat_minor": 2
}
